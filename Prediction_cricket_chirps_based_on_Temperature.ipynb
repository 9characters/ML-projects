{
  "nbformat": 4,
  "nbformat_minor": 0,
  "metadata": {
    "colab": {
      "name": "Prediction cricket chirps based on Temperature.ipynb",
      "provenance": [],
      "collapsed_sections": [],
      "toc_visible": true,
      "authorship_tag": "ABX9TyMEhlIDpAuRbDi0WRDBKPKX",
      "include_colab_link": true
    },
    "kernelspec": {
      "name": "python3",
      "display_name": "Python 3"
    },
    "language_info": {
      "name": "python"
    }
  },
  "cells": [
    {
      "cell_type": "markdown",
      "metadata": {
        "id": "view-in-github",
        "colab_type": "text"
      },
      "source": [
        "<a href=\"https://colab.research.google.com/github/9characters/ML-projects/blob/main/Prediction_cricket_chirps_based_on_Temperature.ipynb\" target=\"_parent\"><img src=\"https://colab.research.google.com/assets/colab-badge.svg\" alt=\"Open In Colab\"/></a>"
      ]
    },
    {
      "cell_type": "markdown",
      "metadata": {
        "id": "czyscYn9z6TW"
      },
      "source": [
        "#**Dataset Preparation**"
      ]
    },
    {
      "cell_type": "markdown",
      "metadata": {
        "id": "qY6bwtRSGLJl"
      },
      "source": [
        "Selecting **TFv1** to use its functionalities."
      ]
    },
    {
      "cell_type": "code",
      "metadata": {
        "colab": {
          "base_uri": "https://localhost:8080/"
        },
        "id": "PhHorZr7C27y",
        "outputId": "a0c06b59-f93e-45c3-f856-ef4805969610"
      },
      "source": [
        "%tensorflow_version 1.x"
      ],
      "execution_count": null,
      "outputs": [
        {
          "output_type": "stream",
          "name": "stdout",
          "text": [
            "TensorFlow 1.x selected.\n"
          ]
        }
      ]
    },
    {
      "cell_type": "markdown",
      "metadata": {
        "id": "kf7rtYKbGX8s"
      },
      "source": [
        "Using **gdown** to download the dataset from the google drive."
      ]
    },
    {
      "cell_type": "code",
      "metadata": {
        "colab": {
          "base_uri": "https://localhost:8080/"
        },
        "id": "q1RYtU2CnNQ3",
        "outputId": "dec5a4cc-f005-4611-8516-6ed027a74dec"
      },
      "source": [
        "!gdown --id 1ayndAG0JMvRu750PbPuvZkWb6Wdd0B8d"
      ],
      "execution_count": null,
      "outputs": [
        {
          "output_type": "stream",
          "name": "stdout",
          "text": [
            "Downloading...\n",
            "From: https://drive.google.com/uc?id=1ayndAG0JMvRu750PbPuvZkWb6Wdd0B8d\n",
            "To: /content/cricket_data.csv\n",
            "\r  0% 0.00/537 [00:00<?, ?B/s]\r100% 537/537 [00:00<00:00, 2.24MB/s]\n"
          ]
        }
      ]
    },
    {
      "cell_type": "markdown",
      "metadata": {
        "id": "ajzBATshGe9R"
      },
      "source": [
        "Importing all the necessary **packages**."
      ]
    },
    {
      "cell_type": "code",
      "metadata": {
        "id": "3dhyjQLQoMmO"
      },
      "source": [
        "import math\n",
        "import pandas as pd\n",
        "import numpy as np\n",
        "import tensorflow as tf\n",
        "from sklearn.model_selection import train_test_split\n",
        "import matplotlib.pyplot as plt\n",
        "from sklearn import metrics"
      ],
      "execution_count": null,
      "outputs": []
    },
    {
      "cell_type": "markdown",
      "metadata": {
        "id": "RHowWgAtGmom"
      },
      "source": [
        "Reading the **CSV data** of chirps and temperature."
      ]
    },
    {
      "cell_type": "code",
      "metadata": {
        "id": "7z3l5QoGoVa-"
      },
      "source": [
        "data = pd.read_csv(\"cricket_data.csv\", names=[\"chirps\", \"temp\"], skiprows=1)"
      ],
      "execution_count": null,
      "outputs": []
    },
    {
      "cell_type": "markdown",
      "metadata": {
        "id": "KgTpKQDuGxyP"
      },
      "source": [
        "Separating **dependent** and **independent** variabels."
      ]
    },
    {
      "cell_type": "code",
      "metadata": {
        "id": "UfbuJp4yoZAg"
      },
      "source": [
        "X = data.iloc[:, 1].dropna().values   # temperature\n",
        "y = data.iloc[:, 0].dropna().values   # chirps/15s"
      ],
      "execution_count": null,
      "outputs": []
    },
    {
      "cell_type": "markdown",
      "metadata": {
        "id": "U5PKVU_jHB2Y"
      },
      "source": [
        "Splitting the dataset into **training** (38), **validation**(14) and **testing** sets (3)."
      ]
    },
    {
      "cell_type": "code",
      "metadata": {
        "colab": {
          "base_uri": "https://localhost:8080/"
        },
        "id": "8MoZi0T31AA1",
        "outputId": "1cf29ae3-fd55-4c4f-a2e2-b047c2044239"
      },
      "source": [
        "X_train, X_val, y_train, y_val = train_test_split(X, y, test_size=0.3, random_state=25)\n",
        "X_val, X_test, y_val, y_test = train_test_split(X_val, y_val, test_size=0.15, random_state=25)\n",
        "print(f\"Number of training data: {len(X_train)}\")\n",
        "print(f\"Number of validation data: {len(X_val)}\")\n",
        "print(f\"Number of test data: {len(X_test)}\")"
      ],
      "execution_count": null,
      "outputs": [
        {
          "output_type": "stream",
          "name": "stdout",
          "text": [
            "Number of training data: 38\n",
            "Number of validation data: 14\n",
            "Number of test data: 3\n"
          ]
        }
      ]
    },
    {
      "cell_type": "markdown",
      "metadata": {
        "id": "JJSR_rvTHg_L"
      },
      "source": [
        "Plotting the training data in a scatter plot to see the distribution of data."
      ]
    },
    {
      "cell_type": "code",
      "metadata": {
        "colab": {
          "base_uri": "https://localhost:8080/",
          "height": 295
        },
        "id": "tpDANY1_2x__",
        "outputId": "e8e35bb0-928b-4485-9ac9-b026b1a936b9"
      },
      "source": [
        "plt.scatter(X_train, y_train, c=\"green\")\n",
        "plt.title(\"Training Data\")\n",
        "plt.xlabel(\"Temperature (°F)\")\n",
        "plt.ylabel(\"Chirps/15s\")\n",
        "plt.show()"
      ],
      "execution_count": null,
      "outputs": [
        {
          "output_type": "display_data",
          "data": {
            "image/png": "[encoded data removed]",
            "text/plain": [
              "<Figure size 432x288 with 1 Axes>"
            ]
          },
          "metadata": {
            "needs_background": "light"
          }
        }
      ]
    },
    {
      "cell_type": "markdown",
      "metadata": {
        "id": "gjRrVHjlHn4K"
      },
      "source": [
        "Plotting the validation data in a **scatter** plot to see the distributon of the data."
      ]
    },
    {
      "cell_type": "code",
      "metadata": {
        "colab": {
          "base_uri": "https://localhost:8080/",
          "height": 295
        },
        "id": "jDBK91Lz3507",
        "outputId": "1745de41-966d-4fcb-90bb-1b03711ed006"
      },
      "source": [
        "plt.scatter(X_val, y_val, c=\"blue\")\n",
        "plt.title(\"Validation Data\")\n",
        "plt.xlabel(\"Temperature (°F)\")\n",
        "plt.ylabel(\"Chirps/15s\")\n",
        "plt.show()"
      ],
      "execution_count": null,
      "outputs": [
        {
          "output_type": "display_data",
          "data": {
            "image/png": "[encoded data removed]",
            "text/plain": [
              "<Figure size 432x288 with 1 Axes>"
            ]
          },
          "metadata": {
            "needs_background": "light"
          }
        }
      ]
    },
    {
      "cell_type": "markdown",
      "metadata": {
        "id": "QP3mVgTK0Jg-"
      },
      "source": [
        "#**Fitting the training data into the linear model**"
      ]
    },
    {
      "cell_type": "markdown",
      "metadata": {
        "id": "-vT4wj10IGHw"
      },
      "source": [
        "Using the **polyfit** method on the training set, to find the optimal value of **slope** and **bias**."
      ]
    },
    {
      "cell_type": "code",
      "metadata": {
        "id": "K4u5P5nd3-i3",
        "colab": {
          "base_uri": "https://localhost:8080/"
        },
        "outputId": "92be682f-e77c-49f3-d8af-b435711e00cc"
      },
      "source": [
        "model_params = np.polyfit(X_train, y_train, 1)\n",
        "slope = model_params[0]\n",
        "bias = model_params[1]\n",
        "print(slope)\n",
        "print(bias)"
      ],
      "execution_count": null,
      "outputs": [
        {
          "output_type": "stream",
          "name": "stdout",
          "text": [
            "1.130854342252503\n",
            "-45.64663721546238\n"
          ]
        }
      ]
    },
    {
      "cell_type": "markdown",
      "metadata": {
        "id": "8976fOQyILOR"
      },
      "source": [
        "Calculating the **RMSE** value for the predicted and actual training labels. The **RMSE** value is pretty low, therefore for the training data, the model predicts almost accurately."
      ]
    },
    {
      "cell_type": "code",
      "metadata": {
        "colab": {
          "base_uri": "https://localhost:8080/"
        },
        "id": "XCVLt0KQ5Khm",
        "outputId": "be98a0ba-9666-4bac-ecef-4545b86ce787"
      },
      "source": [
        "y_pred = list(map(int, (slope * X_train) + bias))\n",
        "train_rmse = math.sqrt(metrics.mean_squared_error(y_pred, y_train))\n",
        "print(f\"The RMSE for the training data is: {train_rmse}\")"
      ],
      "execution_count": null,
      "outputs": [
        {
          "output_type": "stream",
          "name": "stdout",
          "text": [
            "The RMSE for the training data is: 1.8235392495739824\n"
          ]
        }
      ]
    },
    {
      "cell_type": "markdown",
      "metadata": {
        "id": "-YYV0oTPISih"
      },
      "source": [
        "Drawing the **linear line** using the predicted **slope** and **bias** on the scatter plot of training data, to see the actual model-fitting scenario."
      ]
    },
    {
      "cell_type": "code",
      "metadata": {
        "colab": {
          "base_uri": "https://localhost:8080/",
          "height": 295
        },
        "id": "ALjdCbgO8p68",
        "outputId": "43d750e9-e39f-4715-a310-7bf1f9a13ec9"
      },
      "source": [
        "plt.scatter(X_train, y_train, c=\"green\")\n",
        "plt.title(\"Linear Regression Model fitted on the training data\")\n",
        "plt.xlabel(\"Temperature (°F)\")\n",
        "plt.ylabel(\"Chirps/15s\")\n",
        "plt.plot(X_train, (X_train*slope) + bias, color=\"red\")\n",
        "plt.show()"
      ],
      "execution_count": null,
      "outputs": [
        {
          "output_type": "display_data",
          "data": {
            "image/png": "[encoded data removed]",
            "text/plain": [
              "<Figure size 432x288 with 1 Axes>"
            ]
          },
          "metadata": {
            "needs_background": "light"
          }
        }
      ]
    },
    {
      "cell_type": "markdown",
      "metadata": {
        "id": "06PY2O7z0SKU"
      },
      "source": [
        "#**Using the model on the validation data**"
      ]
    },
    {
      "cell_type": "markdown",
      "metadata": {
        "id": "WBpoooRrIvl-"
      },
      "source": [
        "Calculating the **RMSE** score for the for the validation data, and it came out to be 1.72 which is pretty low enough to have decent predictions."
      ]
    },
    {
      "cell_type": "code",
      "metadata": {
        "colab": {
          "base_uri": "https://localhost:8080/"
        },
        "id": "AQDZg3mqzg-G",
        "outputId": "aae9ff86-2495-4fc9-cd6b-25465ae976f8"
      },
      "source": [
        "y_pred = list(map(int, (slope * X_val) + bias))\n",
        "val_rmse = math.sqrt(metrics.mean_squared_error(y_pred, y_val))\n",
        "print(f\"The RMSE for the validation data is: {val_rmse}\")"
      ],
      "execution_count": null,
      "outputs": [
        {
          "output_type": "stream",
          "name": "stdout",
          "text": [
            "The RMSE for the validation data is: 1.7223841449738042\n"
          ]
        }
      ]
    },
    {
      "cell_type": "markdown",
      "metadata": {
        "id": "8PPkXfjVJWSN"
      },
      "source": [
        "Drawing the **linear line** using the predicted **slope** and **bias** on the scatter plot of test data, how to model fits on the test data."
      ]
    },
    {
      "cell_type": "code",
      "metadata": {
        "colab": {
          "base_uri": "https://localhost:8080/",
          "height": 295
        },
        "id": "uCC9rKFzx7U2",
        "outputId": "ad214315-37dd-4754-dd27-a1ab14082bbc"
      },
      "source": [
        "plt.scatter(X_val, y_val, c=\"blue\")\n",
        "plt.title(\"Linear Regression Model fitted on the validation data\")\n",
        "plt.xlabel(\"Temperature (°F)\")\n",
        "plt.ylabel(\"Chirps/15s\")\n",
        "plt.plot(X_val, (X_val*slope) + bias, color=\"red\")\n",
        "plt.show()"
      ],
      "execution_count": null,
      "outputs": [
        {
          "output_type": "display_data",
          "data": {
            "image/png": "[encoded data removed]",
            "text/plain": [
              "<Figure size 432x288 with 1 Axes>"
            ]
          },
          "metadata": {
            "needs_background": "light"
          }
        }
      ]
    },
    {
      "cell_type": "markdown",
      "metadata": {
        "id": "KfgZl7SG0c_6"
      },
      "source": [
        "#**Testing on the new data using the optimal model**"
      ]
    },
    {
      "cell_type": "markdown",
      "metadata": {
        "id": "SLF--FdfJe5R"
      },
      "source": [
        "Finally, **testing** the the model on 3 test data which we separeted in the beginning."
      ]
    },
    {
      "cell_type": "code",
      "metadata": {
        "colab": {
          "base_uri": "https://localhost:8080/"
        },
        "id": "JDR_kwRY0nVD",
        "outputId": "19b59401-b337-470f-f5f1-7b69180c5b98"
      },
      "source": [
        "y_preds = list(map(int, (slope * X_test) + bias))\n",
        "for temp, y, y_pred in zip(X_test, y_test.astype(int), y_preds):\n",
        "  print(f\"For {temp} °F:\\n\\tActual number cricket chirps/15s is: {y}\")\n",
        "  print(f\"\\tPredicted number cricket chirps/15s is: {y_pred}\\n\")"
      ],
      "execution_count": null,
      "outputs": [
        {
          "output_type": "stream",
          "name": "stdout",
          "text": [
            "For 52.0 °F:\n",
            "\tActual number cricket chirps/15s is: 18\n",
            "\tPredicted number cricket chirps/15s is: 13\n",
            "\n",
            "For 66.0 °F:\n",
            "\tActual number cricket chirps/15s is: 28\n",
            "\tPredicted number cricket chirps/15s is: 28\n",
            "\n",
            "For 72.5 °F:\n",
            "\tActual number cricket chirps/15s is: 36\n",
            "\tPredicted number cricket chirps/15s is: 36\n",
            "\n"
          ]
        }
      ]
    },
    {
      "cell_type": "markdown",
      "metadata": {
        "id": "7TPdzkHE5gfc"
      },
      "source": [
        "#**Inference/Prediction by the model**"
      ]
    },
    {
      "cell_type": "markdown",
      "metadata": {
        "id": "ss1s_odiJp-Y"
      },
      "source": [
        "Getting the **new data** from the user."
      ]
    },
    {
      "cell_type": "code",
      "metadata": {
        "colab": {
          "base_uri": "https://localhost:8080/"
        },
        "id": "QTfLELQ4C0u_",
        "outputId": "69facc1e-657b-4ab4-9911-fa11bc7edfb1"
      },
      "source": [
        "new_temp = int(input(\"Please enter the temperature (°F): \"))"
      ],
      "execution_count": null,
      "outputs": [
        {
          "name": "stdout",
          "output_type": "stream",
          "text": [
            "Please enter the temperature (°F): 56\n"
          ]
        }
      ]
    },
    {
      "cell_type": "markdown",
      "metadata": {
        "id": "c7zm1vl3JtOV"
      },
      "source": [
        "Using **TFv1** to make the computational graph and use the **Linear Regression** model to predict/infer the cricket chirps/15s at given temperature."
      ]
    },
    {
      "cell_type": "code",
      "metadata": {
        "colab": {
          "base_uri": "https://localhost:8080/"
        },
        "id": "H-s1gA7B6CLP",
        "outputId": "4137855b-ece8-4be9-ff13-39c6bb7917c1"
      },
      "source": [
        "init = tf.global_variables_initializer()\n",
        "\n",
        "with tf.Session() as sess:\n",
        "  sess.run(init)\n",
        "  x_input = tf.placeholder(tf.float32)\n",
        "  y_tensor = slope * x_input + bias\n",
        "  y_pred_new = int(sess.run(y_tensor, {x_input: new_temp}))\n",
        "  print(f\"For {new_temp},°F, the expected number of cricket chirps/15s is {y_pred_new}\")"
      ],
      "execution_count": null,
      "outputs": [
        {
          "output_type": "stream",
          "name": "stdout",
          "text": [
            "For 56,°F, the expected number of cricket chirps/15s is 17\n"
          ]
        }
      ]
    },
    {
      "cell_type": "markdown",
      "metadata": {
        "id": "MPTz38xzKMbC"
      },
      "source": [
        "#**Conclusion**"
      ]
    },
    {
      "cell_type": "markdown",
      "metadata": {
        "id": "4B4xe-ueLd7e"
      },
      "source": [
        "* First, I loaded the dataset and splitted into training, validation and test sets. Since dataset was not so big, I used 38 training data, 14 validation data and 3 test data. \n",
        "* Then I used the polyfit method of numpy which uses the **Least Square Method** to find the optimal value of slope and bias. For the input training data (x) and output data (y), we can obtain the optimal slope and bias using the following least square method, where $\\bar{x}$ and $\\bar{y}$ are the corresponding means.\n",
        "*$\\mathbf{slope} = \\frac{(\\sum_{i=1}^n (x_i - \\bar{x}) (y_i - \\bar{y}))} {\\sum_{i=1}^n (x_i - \\bar{x})^2}$\n",
        "*$\\mathbf{bias} = \\bar{y} - \\mathbf{slope} \\cdot \\bar{x}$\n",
        "* **Observed Parameters**:\n",
        "      slope = 1.130854342252503\n",
        "      bias = -45.64663721546238\n",
        "* Then I used the linear regression model to predict on the validation set, to validate the result. The result came out to be pretty good.\n",
        "* **RMSE Findings**\n",
        "      RMSE on training data: 1.8235392495739824\n",
        "      RMSE on validation data: 1.7223841449738042\n",
        "      Difference in RMSEs: 0.10115510460017818\n",
        "*The low difference in RMSE shows that the model is very almost perfectly fitted, therefore, can be used for predictions.\n",
        "*Then I checked the model on the test data and compared with the actual data to and found out very little difference in the result.\n",
        "*Therefore, it can be conluded that so created linear regression model can almost accurately predict the cricket chirps/15s at the given temperature, still we can improve the predictions by obtaining more continuous dataset with subtle differences in temperature.\n",
        "*Colab Link: https://colab.research.google.com/drive/1s9JFwK0TqI_oqOCl9mEsKDM2n5cJcZgu?usp=sharing\n",
        "\n"
      ]
    }
  ]
}